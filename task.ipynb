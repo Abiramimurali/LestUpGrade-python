{
  "nbformat": 4,
  "nbformat_minor": 0,
  "metadata": {
    "colab": {
      "name": "task.ipynb",
      "provenance": [],
      "toc_visible": true,
      "mount_file_id": "1vKKVZfZD-CLxbqjVAlvoPhXmYtiOjwVj",
      "authorship_tag": "ABX9TyPyTbRQMKtOOM1tI/zxra8+",
      "include_colab_link": true
    },
    "kernelspec": {
      "name": "python3",
      "display_name": "Python 3"
    }
  },
  "cells": [
    {
      "cell_type": "markdown",
      "metadata": {
        "id": "view-in-github",
        "colab_type": "text"
      },
      "source": [
        "<a href=\"https://colab.research.google.com/github/Abiramimurali/LestUpGrade-python/blob/master/task.ipynb\" target=\"_parent\"><img src=\"https://colab.research.google.com/assets/colab-badge.svg\" alt=\"Open In Colab\"/></a>"
      ]
    },
    {
      "cell_type": "code",
      "metadata": {
        "id": "mGQw1VnQEb9o",
        "colab_type": "code",
        "colab": {
          "base_uri": "https://localhost:8080/",
          "height": 51
        },
        "outputId": "af6b883d-b927-4605-d686-2c29fe9d5101"
      },
      "source": [
        "#square root value\n",
        "import math\n",
        "n=int(input())\n",
        "res=math.sqrt(n)\n",
        "print('squareroot of {} is {}'.format(n,res))"
      ],
      "execution_count": 10,
      "outputs": [
        {
          "output_type": "stream",
          "text": [
            "10\n",
            "squareroot of 10 is 3.1622776601683795\n"
          ],
          "name": "stdout"
        }
      ]
    },
    {
      "cell_type": "code",
      "metadata": {
        "id": "pvWjNIkDXCW3",
        "colab_type": "code",
        "colab": {
          "base_uri": "https://localhost:8080/",
          "height": 119
        },
        "outputId": "34d2a254-8bc0-43a2-ab84-3006c748d440"
      },
      "source": [
        "#distance b/w two points\n",
        "import math\n",
        "x1=int(input())\n",
        "y1=int(input())\n",
        "x2=int(input())\n",
        "y2=int(input())\n",
        "print('point1 (x1,y1) = ({},{}) and point2 (x2,y2) = ({},{})'.format(x1,y1,x2,y2))\n",
        "a=((x2-x1)**2)+((y2-y1)**2)\n",
        "distance=math.sqrt(a)\n",
        "print('distance b/w two points {}'.format(distance))"
      ],
      "execution_count": 29,
      "outputs": [
        {
          "output_type": "stream",
          "text": [
            "10\n",
            "20\n",
            "30\n",
            "40\n",
            "point1 (x1,y1) = (10,20) and point2 (x2,y2) = (30,40)\n",
            "distance b/w two points 28.284271247461902\n"
          ],
          "name": "stdout"
        }
      ]
    }
  ]
}